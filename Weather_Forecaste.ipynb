{
 "cells": [
  {
   "cell_type": "code",
   "execution_count": 1,
   "id": "9d64e539-763b-4fbe-b0f5-fd10bca0bff1",
   "metadata": {},
   "outputs": [],
   "source": [
    "import requests\n",
    "import pandas as pd\n",
    "import numpy as np\n",
    "from sklearn.model_selection import train_test_split\n",
    "from sklearn.preprocessing import LabelEncoder\n",
    "from sklearn.ensemble import RandomForestClassifier, RandomForestRegressor\n",
    "from sklearn.metrics import mean_squared_error\n",
    "from datetime import datetime, timedelta\n",
    "import pytz"
   ]
  },
  {
   "cell_type": "code",
   "execution_count": 2,
   "id": "e13c8da9-4b32-4bc9-8ce1-94968b163dbf",
   "metadata": {},
   "outputs": [],
   "source": [
    "API_KEY = '588b5e772855b570d82d148878871433'\n",
    "BASE_URL = 'https://api.openweathermap.org/data/2.5/'"
   ]
  },
  {
   "cell_type": "code",
   "execution_count": 3,
   "id": "19b26f56-7f78-49ff-8fe2-28ee94e6a726",
   "metadata": {},
   "outputs": [],
   "source": [
    "def get_current_weather(city):\n",
    "    url = f\"{BASE_URL}weather?q={city}&appid={API_KEY}&units=metric\"\n",
    "    response = requests.get(url)\n",
    "    data = response.json()\n",
    "    if data['cod'] != 200:\n",
    "      print(f\"Error: {data['message']}\")\n",
    "      return None\n",
    "    return {\n",
    "        'city' : data['name'],\n",
    "        'current_temp': round(data['main']['temp']),\n",
    "        'feels_like': round(data['main']['feels_like']),\n",
    "        'temp_min' : round(data['main']['temp_min']),\n",
    "        'temp_max' : round(data['main']['temp_max']),\n",
    "        'description' : data['weather'][0]['description'],\n",
    "        'country': data['sys']['country'],\n",
    "        'wind_gust_dir': data['wind']['deg'],\n",
    "        'pressure': data['main']['pressure'],\n",
    "        'Wind_Gust_Speed': data['wind']['speed'],\n",
    "        'humidity': data['main']['humidity']\n",
    "    }"
   ]
  },
  {
   "cell_type": "code",
   "execution_count": 4,
   "id": "0dfb5383-5a54-48da-882d-020c70360f2b",
   "metadata": {},
   "outputs": [],
   "source": [
    "def read_historical_data(filename):\n",
    "    df = pd.read_csv(filename)\n",
    "    df = df.dropna()\n",
    "    df = df.drop_duplicates()\n",
    "    return df"
   ]
  },
  {
   "cell_type": "code",
   "execution_count": 5,
   "id": "c003fb0a-847c-4037-895b-112bc0598587",
   "metadata": {},
   "outputs": [],
   "source": [
    "def prepare_data(data):\n",
    "    le = LabelEncoder()\n",
    "    data['WindGustDir'] = le.fit_transform(data['WindGustDir'])\n",
    "    data['RainTomorrow'] = le.fit_transform(data['RainTomorrow'])\n",
    "    X = data[['MinTemp', 'MaxTemp', 'WindGustDir', 'WindGustSpeed', 'Humidity', 'Pressure', 'Temp']]\n",
    "    Y = data['RainTomorrow']\n",
    "    return X, Y, le"
   ]
  },
  {
   "cell_type": "code",
   "execution_count": 6,
   "id": "c505f748-0d16-4215-be5d-0bf1d803b34b",
   "metadata": {},
   "outputs": [],
   "source": [
    "def train_rain_model(X, Y):\n",
    "    X_train, X_test, Y_train, Y_test = train_test_split(X, Y, test_size=0.2, random_state=42)\n",
    "    model = RandomForestClassifier(n_estimators=100, random_state=42)\n",
    "    model.fit(X_train, Y_train)\n",
    "    Y_pred = model.predict(X_test)\n",
    "\n",
    "    print(\"Mean Squared Error for Rain Model\")\n",
    "    print(mean_squared_error(Y_test, Y_pred))\n",
    "    return model"
   ]
  },
  {
   "cell_type": "code",
   "execution_count": 7,
   "id": "93e334db-4bdf-4587-abf7-caaf3eca5d00",
   "metadata": {},
   "outputs": [],
   "source": [
    "def prepare_regression_data(data, feature):\n",
    "    X, Y = [], []\n",
    "    for i in range(len(data) -1):\n",
    "        X.append(data[feature].iloc[i])\n",
    "\n",
    "        Y.append(data[feature].iloc[i+1])\n",
    "    X = np.array(X).reshape(-1,1)\n",
    "    Y = np.array(Y)\n",
    "    return X, Y"
   ]
  },
  {
   "cell_type": "code",
   "execution_count": 8,
   "id": "a74b733e-b3ba-4d96-b4e2-9368dd2b5d87",
   "metadata": {},
   "outputs": [],
   "source": [
    "def train_regression_model(X, Y):\n",
    "    model = RandomForestRegressor(n_estimators=100, random_state=41)\n",
    "    model.fit(X, Y)\n",
    "    return model"
   ]
  },
  {
   "cell_type": "code",
   "execution_count": 9,
   "id": "ed0a82e8-c63f-45f6-b38e-c2c650570051",
   "metadata": {},
   "outputs": [],
   "source": [
    "def predict_future(model, current_value):\n",
    "    predictions = [current_value]\n",
    "    for i in range(5):\n",
    "        next_value = model.predict(np.array([[predictions[-1]]]))\n",
    "        predictions.append(next_value[0])\n",
    "    return predictions[1:]"
   ]
  },
  {
   "cell_type": "code",
   "execution_count": 10,
   "id": "6d9051f0-3688-4b07-9e62-8e24021b2dcb",
   "metadata": {},
   "outputs": [],
   "source": [
    "def weather_view():\n",
    "    city = input('Enter any city name:')\n",
    "    current_weather = get_current_weather(city)\n",
    "\n",
    "    if current_weather is None:\n",
    "      return\n",
    "\n",
    "    historical_data = read_historical_data('weather.csv')\n",
    "    if historical_data is None or historical_data.empty:\n",
    "      print(\"Error: Could not load historical data or it is empty.\")\n",
    "      return\n",
    "\n",
    "    X, Y, le = prepare_data(historical_data)\n",
    "    rain_model = train_rain_model(X, Y)\n",
    "    wind_deg = current_weather['wind_gust_dir']%360\n",
    "    compass_points = [\n",
    "        (\"N\", 0,11.25), (\"NNE\", 11.25, 33.75), (\"NE\", 33.75, 56.25),\n",
    "        (\"ENE\", 56.25, 78.75), (\"E\", 78.75, 101.25), (\"ESE\", 101.25, 123.75),\n",
    "        (\"SE\", 123.75, 146.25), (\"SSE\", 146.25, 168.75), (\"S\", 168.75, 191.25),\n",
    "        (\"SSW\", 191.25, 213.75), (\"SW\", 213.75, 236.25), (\"WSW\", 236.25, 258.75),\n",
    "        (\"W\", 258.75, 281.25), (\"WNW\", 281.25, 303.75), (\"NW\", 303.75, 326.25),\n",
    "        (\"NNW\", 326.25, 348.75)\n",
    "    ]\n",
    "    compass_direction = next(point for point, start, end in compass_points if start <= wind_deg < end)[0] # Get the compass point name\n",
    "    compass_direction_encoded = le.transform([compass_direction])[0] if compass_direction in le.classes_ else -1\n",
    "\n",
    "    current_data = {\n",
    "        'MinTemp': current_weather['temp_min'],\n",
    "        'MaxTemp': current_weather['temp_max'],\n",
    "        'WindGustDir': compass_direction_encoded,\n",
    "        'WindGustSpeed': current_weather['Wind_Gust_Speed'],\n",
    "        'Humidity': current_weather['humidity'],\n",
    "        'Pressure': current_weather['pressure'],\n",
    "        'Temp': current_weather['current_temp'],\n",
    "    }\n",
    "\n",
    "    current_df = pd.DataFrame([current_data])\n",
    "    rain_prediction = rain_model.predict(current_df)[0]\n",
    "    X_temp, Y_temp = prepare_regression_data(historical_data, 'Temp')\n",
    "    X_hum, Y_hum = prepare_regression_data(historical_data, 'Humidity')\n",
    "    temp_model = train_regression_model(X_temp, Y_temp)\n",
    "    hum_model = train_regression_model(X_hum, Y_hum)\n",
    "    future_temp = predict_future(temp_model, current_weather['current_temp'])\n",
    "    future_humidity = predict_future(hum_model, current_weather['humidity'])\n",
    "    timezone = pytz.timezone('asia/Kolkata')\n",
    "    now = datetime.now(timezone)\n",
    "    next_hour = now + timedelta(hours=1)\n",
    "    next_hour = next_hour.replace(minute=0, second=0, microsecond=0)\n",
    "    future_times = [(next_hour + timedelta(hours=i)).strftime(\"%H:00\") for i in range(5)]\n",
    "\n",
    "    print(f\"city: {city}, {current_weather['country']}\")\n",
    "    print(f\"current Temprature: {current_weather['current_temp']}\")\n",
    "    print(f\"Feels Like: {current_weather['feels_like']}\")\n",
    "    print(f\"Minimum Temprature: {current_weather['temp_min']}°C\")\n",
    "    print(f\"Maximum Temprature: {current_weather['temp_max']}°C\")\n",
    "    print(f\"Humidity: {current_weather['humidity']}%\")\n",
    "    print(f\"Weather Prediction: {current_weather['description']}\")\n",
    "    print(f\"Rain Prediction: {'Yes' if rain_prediction else 'No'}\")\n",
    "    print(\"\\nFuture Temprature Predictions:\")\n",
    "\n",
    "    for time, temp in zip(future_times, future_temp):\n",
    "      print(f\"{time}: {round(temp, 1)}°C\")\n",
    "    print(\"\\nFuture Humidity Predictions:\")\n",
    "    for time, humidity in zip(future_times, future_humidity):\n",
    "      print(f\"{time}: {round(humidity, 1)}%\")\n"
   ]
  },
  {
   "cell_type": "code",
   "execution_count": 11,
   "id": "f50d1529-bf51-4c06-b96d-3b8e1a7795c8",
   "metadata": {},
   "outputs": [
    {
     "name": "stdin",
     "output_type": "stream",
     "text": [
      "Enter any city name: ranchi\n"
     ]
    },
    {
     "name": "stdout",
     "output_type": "stream",
     "text": [
      "Mean Squared Error for Rain Model\n",
      "0.1506849315068493\n",
      "city: ranchi, IN\n",
      "current Temprature: 22\n",
      "Feels Like: 23\n",
      "Minimum Temprature: 22°C\n",
      "Maximum Temprature: 22°C\n",
      "Humidity: 94%\n",
      "Weather Prediction: mist\n",
      "Rain Prediction: Yes\n",
      "\n",
      "Future Temprature Predictions:\n",
      "07:00: 23.1°C\n",
      "08:00: 17.0°C\n",
      "09:00: 21.0°C\n",
      "10:00: 19.0°C\n",
      "11:00: 24.3°C\n",
      "\n",
      "Future Humidity Predictions:\n",
      "07:00: 60.8%\n",
      "08:00: 58.2%\n",
      "09:00: 54.9%\n",
      "10:00: 57.1%\n",
      "11:00: 39.6%\n"
     ]
    }
   ],
   "source": [
    "weather_view()"
   ]
  },
  {
   "cell_type": "code",
   "execution_count": null,
   "id": "b937a8f4-e42f-473b-933d-372a0f5f31f8",
   "metadata": {},
   "outputs": [],
   "source": []
  }
 ],
 "metadata": {
  "kernelspec": {
   "display_name": "Python 3 (ipykernel)",
   "language": "python",
   "name": "python3"
  },
  "language_info": {
   "codemirror_mode": {
    "name": "ipython",
    "version": 3
   },
   "file_extension": ".py",
   "mimetype": "text/x-python",
   "name": "python",
   "nbconvert_exporter": "python",
   "pygments_lexer": "ipython3",
   "version": "3.13.5"
  }
 },
 "nbformat": 4,
 "nbformat_minor": 5
}
